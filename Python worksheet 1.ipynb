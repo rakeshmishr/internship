{
 "cells": [
  {
   "cell_type": "markdown",
   "id": "9f927f4f",
   "metadata": {},
   "source": [
    "## Write a python program to find the factorial of a number."
   ]
  },
  {
   "cell_type": "code",
   "execution_count": null,
   "id": "dfa27ed8",
   "metadata": {},
   "outputs": [],
   "source": [
    "number = 5\n",
    "factorial = 1\n",
    "\n",
    "if number < 0:\n",
    "    print (\"the factorial number does not exist for negative\")\n",
    "    \n",
    "elif number == 0:\n",
    "    print (\"the factorial of 0 is 5\")\n",
    "    \n",
    "else:\n",
    "    for i in range (1,number + 1):\n",
    "        factorial = factorial*i\n",
    "        \n",
    "    print (\"the factorial of\",number,\"is\" ,factorial)"
   ]
  },
  {
   "cell_type": "code",
   "execution_count": null,
   "id": "93eaa87d",
   "metadata": {},
   "outputs": [],
   "source": []
  },
  {
   "cell_type": "markdown",
   "id": "9561a09a",
   "metadata": {},
   "source": [
    "## Write a python program to find whether a number is prime or composite."
   ]
  },
  {
   "cell_type": "code",
   "execution_count": 1,
   "id": "c7b2901d",
   "metadata": {},
   "outputs": [
    {
     "name": "stdout",
     "output_type": "stream",
     "text": [
      "Enter any number : 55\n",
      "55 is COMPOSITE number\n"
     ]
    }
   ],
   "source": [
    "num = int(input(\"Enter any number : \"))\n",
    "if num > 1:\n",
    "    for i in range(2, num):\n",
    "        if (num % i) == 0:\n",
    "            print(num, \"is COMPOSITE number\")\n",
    "            break\n",
    "    else:\n",
    "        print(num, \"is a PRIME number\")\n",
    "        \n",
    "elif num == 0 or 1:\n",
    "    print(num, \"is a neither prime NOR composite number\")\n",
    "    \n",
    "else:\n",
    "    print(num, \"is NOT a prime number it is a COMPOSITE number\")"
   ]
  },
  {
   "cell_type": "code",
   "execution_count": null,
   "id": "ecd97f33",
   "metadata": {},
   "outputs": [],
   "source": []
  },
  {
   "cell_type": "markdown",
   "id": "dba49dcd",
   "metadata": {},
   "source": [
    "## Write a python program to check whether a given string is palindrome or not."
   ]
  },
  {
   "cell_type": "code",
   "execution_count": 14,
   "id": "20d86e60",
   "metadata": {},
   "outputs": [
    {
     "name": "stdout",
     "output_type": "stream",
     "text": [
      "Enter string:madam\n",
      "The string is a palindrome\n"
     ]
    }
   ],
   "source": [
    "my_str=input(\"Enter string:\")\n",
    "\n",
    "if(my_str==my_str[::-1]):\n",
    "    print(\"The string is a palindrome\")\n",
    "\n",
    "else:\n",
    "    print(\"The string isn't a palindrome\")"
   ]
  },
  {
   "cell_type": "code",
   "execution_count": null,
   "id": "a836889d",
   "metadata": {},
   "outputs": [],
   "source": []
  },
  {
   "cell_type": "markdown",
   "id": "bd13311a",
   "metadata": {},
   "source": [
    "## Write a Python program to get the third side of right-angled triangle from two given sides."
   ]
  },
  {
   "cell_type": "code",
   "execution_count": 20,
   "id": "98484344",
   "metadata": {},
   "outputs": [
    {
     "name": "stdout",
     "output_type": "stream",
     "text": [
      "Enter the height of the triangle : 7\n",
      "Enter the character you want to print the triangle : A\n",
      "A \n",
      "A A \n",
      "A A A \n",
      "A A A A \n",
      "A A A A A \n",
      "A A A A A A \n",
      "A A A A A A A \n"
     ]
    }
   ],
   "source": [
    "height = int(input(\"Enter the height of the triangle : \"))\n",
    "c = str(input(\"Enter the character you want to print the triangle : \"))\n",
    "for i in range(1,height+1):\n",
    "    for j in range(1,i+1):\n",
    "        print(c+\" \", end='')\n",
    "    print()"
   ]
  },
  {
   "cell_type": "code",
   "execution_count": 24,
   "id": "cfc43a72",
   "metadata": {},
   "outputs": [
    {
     "name": "stdout",
     "output_type": "stream",
     "text": [
      "Enter the height of the triangle : 10\n",
      "A\n",
      "AA\n",
      "AAA\n",
      "AAAA\n",
      "AAAAA\n",
      "AAAAAA\n",
      "AAAAAAA\n",
      "AAAAAAAA\n",
      "AAAAAAAAA\n",
      "AAAAAAAAAA\n"
     ]
    }
   ],
   "source": [
    "height = int(input(\"Enter the height of the triangle : \"))\n",
    "for i in range(1,height+1):\n",
    "    for j in range(1,i+1):\n",
    "        print(c+\" \", end='')\n",
    "    print()"
   ]
  },
  {
   "cell_type": "code",
   "execution_count": null,
   "id": "7d468243",
   "metadata": {},
   "outputs": [],
   "source": []
  },
  {
   "cell_type": "markdown",
   "id": "4b64989e",
   "metadata": {},
   "source": [
    "## Write a python program to print the frequency of each of the characters present in a given string."
   ]
  },
  {
   "cell_type": "code",
   "execution_count": 30,
   "id": "41bf4447",
   "metadata": {},
   "outputs": [
    {
     "name": "stdout",
     "output_type": "stream",
     "text": [
      "Given String:  time of effort\n",
      "Frequency of each character :\n",
      "  {'t': 2, 'i': 1, 'm': 1, 'e': 2, ' ': 2, 'o': 2, 'f': 3, 'r': 1}\n"
     ]
    }
   ],
   "source": [
    "string = \"time of effort\"\n",
    "print(\"Given String: \",string)\n",
    "result = {}\n",
    "\n",
    "for keys in string:\n",
    "    result[keys] = result.get(keys, 0) + 1\n",
    "\n",
    "print(\"Frequency of each character :\\n \",result)"
   ]
  },
  {
   "cell_type": "code",
   "execution_count": null,
   "id": "7519ed3d",
   "metadata": {},
   "outputs": [],
   "source": []
  }
 ],
 "metadata": {
  "kernelspec": {
   "display_name": "Python 3",
   "language": "python",
   "name": "python3"
  },
  "language_info": {
   "codemirror_mode": {
    "name": "ipython",
    "version": 3
   },
   "file_extension": ".py",
   "mimetype": "text/x-python",
   "name": "python",
   "nbconvert_exporter": "python",
   "pygments_lexer": "ipython3",
   "version": "3.8.8"
  }
 },
 "nbformat": 4,
 "nbformat_minor": 5
}
